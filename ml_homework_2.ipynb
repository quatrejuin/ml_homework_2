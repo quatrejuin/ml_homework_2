{
 "cells": [
  {
   "cell_type": "markdown",
   "metadata": {},
   "source": [
    "# 2 Practical Part"
   ]
  },
  {
   "cell_type": "code",
   "execution_count": 1,
   "metadata": {
    "ExecuteTime": {
     "end_time": "2018-10-13T22:53:53.603972Z",
     "start_time": "2018-10-13T22:53:52.040977Z"
    }
   },
   "outputs": [
    {
     "name": "stdout",
     "output_type": "stream",
     "text": [
      "Populating the interactive namespace from numpy and matplotlib\n"
     ]
    }
   ],
   "source": [
    "# List all the libraries\n",
    "import numpy as np\n",
    "%pylab inline\n",
    "from tqdm import tnrange, tqdm_notebook\n",
    "import pandas as pd"
   ]
  },
  {
   "cell_type": "markdown",
   "metadata": {},
   "source": [
    "## 2.1"
   ]
  },
  {
   "cell_type": "markdown",
   "metadata": {},
   "source": [
    "$$    \\nabla\\tilde{R}(b,\\mathbf{w})=(\\frac{\\partial\\tilde{R}}{\\partial{b}}\\quad\\frac{\\partial\\tilde{R}}{\\partial{\\mathbf{w}}})^T $$\n",
    "- Implementation regression_gradient with loop\n",
    "$$\\begin{align}\n",
    "    &\\frac{\\partial\\tilde{R}}{\\partial b}(\\mathbf{w},b)=2\\sum_{i=1}^n(\\mathbf{w}^T\\mathbf{x}^{(i)}+b-t^{(i)}) \\\\\n",
    "    &\\frac{\\partial\\tilde{R}}{\\partial w_k}(\\mathbf{w},b)=2\\sum_{i=1}^n(\\mathbf{w}^T\\mathbf{x}^{(i)}+b-t^{(i)})x^{(i)}_k+2\\lambda w_k\\qquad k\\in[1,...,d] \\label{eq:grd_tild_r}\n",
    "\\end{align}\n",
    "$$\n",
    "$$\n",
    "\\begin{align}\n",
    "b \\gets  b - \\eta \\frac{\\partial\\tilde{R}}{\\partial b} \\\\\n",
    "w \\gets  w - \\eta \\frac{\\partial\\tilde{R}}{\\partial w}\n",
    "\\end{align}\n",
    "$$"
   ]
  },
  {
   "cell_type": "markdown",
   "metadata": {},
   "source": [
    "- Implementation regression_gradient with vectorisation\n",
    "$$\n",
    "\\mathbf{X_{[:,0]}} = J_{n,1} = \\begin{bmatrix}\n",
    "1 \\\\\n",
    "1 \\\\\n",
    "\\vdots \\\\\n",
    "1\n",
    "\\end{bmatrix}_{n\\times1}\\qquad \\text{where $J_{n,1}$ is a $n\\times 1$ vector, and every element is equal to one.}\n",
    "$$\n",
    "\\begin{align*}\n",
    "    \\nabla\\tilde{R}=\\frac{\\partial\\tilde{R}}{\\partial{\\boldsymbol{\\theta}}} = 2\\mathbf{X}^T(\\mathbf{X}\\boldsymbol{\\theta}-\\mathbf{t})+2\\lambda(0\\quad\\mathbf{w})^T\n",
    "\\end{align*}\n",
    "$$\\boldsymbol{\\theta} \\gets  \\boldsymbol{\\theta} - \\eta \\frac{\\partial\\tilde{R}}{\\partial{\\boldsymbol{\\theta}}}\n",
    "$$"
   ]
  },
  {
   "cell_type": "code",
   "execution_count": 2,
   "metadata": {
    "ExecuteTime": {
     "end_time": "2018-10-13T22:53:53.625140Z",
     "start_time": "2018-10-13T22:53:53.612201Z"
    }
   },
   "outputs": [],
   "source": [
    "class RG:\n",
    "    def __init__(self,d,lbd=0.1,eta=0.05):\n",
    "        self.lbd = lbd\n",
    "        self.eta = eta\n",
    "        self.d = d\n",
    "        self.b = 0\n",
    "        self.w = np.random.random_sample(d)\n",
    "    \n",
    "    # Implementation regression_gradient with vectorisation\n",
    "    # Much faster than the implementation with loop.\n",
    "    def regression_gradient(self,train_data,num_iters=1000):\n",
    "        theta = np.hstack((self.b,self.w))\n",
    "        train_inputs = train_data[:,:-1]\n",
    "        train_labels = train_data[:,-1]\n",
    "        n = train_data.shape[0]\n",
    "        X = np.hstack((np.ones((n,1)),train_inputs))\n",
    "        t = train_labels\n",
    "        for itr in tqdm_notebook(range(num_iters)):\n",
    "            grad = 2*X.T@(X@theta-t)+2*self.lbd*np.hstack((0,theta[1:self.d+1]))\n",
    "            theta -= self.eta*grad\n",
    "        self.b = theta[0]\n",
    "        self.w = theta[1:self.d+1]\n",
    "        return (self.b,self.w)\n",
    "    \n",
    "    # Implementation regression_gradient with loop\n",
    "    # Much slower than the implementation with vectorisation.\n",
    "    def regression_gradient_loop(self,train_data,num_iters=1000):     \n",
    "        self.n = train_data.shape[0]\n",
    "        train_inputs = train_data[:,:-1]\n",
    "        train_labels = train_data[:,-1]\n",
    "        \n",
    "        for itr in tqdm_notebook(range(num_iters)):\n",
    "            grad_b = 0\n",
    "            grad_w = np.zeros(self.d)     \n",
    "            t = train_labels         \n",
    "            for i in range(self.n):\n",
    "                y = self.w.T@train_inputs[i,:]+self.b\n",
    "                \n",
    "                grad_b += 2*(y-t[i])\n",
    "                for k in range(self.d):\n",
    "                    grad_w[k] += 2*train_inputs[i,k]*(y-t[i])\n",
    "            \n",
    "            grad_w += 2*self.lbd*self.w[k]\n",
    "            self.b -= self.eta*grad_b\n",
    "            self.w -= self.eta*grad_w\n",
    "        return (self.b,self.w)\n",
    "    \n",
    "    def predict(self,X):\n",
    "        X=np.copy(X)\n",
    "        # reshape the X if it's a vector(1d array)\n",
    "        if len(X.shape)==1:     \n",
    "            X.shape=((-1,1))\n",
    "        return X@self.w+self.b"
   ]
  },
  {
   "cell_type": "markdown",
   "metadata": {},
   "source": [
    "## 2.2"
   ]
  },
  {
   "cell_type": "code",
   "execution_count": 3,
   "metadata": {
    "ExecuteTime": {
     "end_time": "2018-10-13T22:53:54.342118Z",
     "start_time": "2018-10-13T22:53:53.629258Z"
    }
   },
   "outputs": [
    {
     "data": {
      "text/plain": [
       "<matplotlib.legend.Legend at 0x121ecfc88>"
      ]
     },
     "execution_count": 3,
     "metadata": {},
     "output_type": "execute_result"
    },
    {
     "data": {
      "image/png": "[encoded data removed]",
      "text/plain": [
       "<matplotlib.figure.Figure at 0x1217e2668>"
      ]
     },
     "metadata": {},
     "output_type": "display_data"
    }
   ],
   "source": [
    "range_x = np.random.uniform(-5, 5, 15)\n",
    "# Ground truth\n",
    "# h(x) = sin(x) + 0.3x − 1\n",
    "def h(x):\n",
    "    return np.sin(x) + 0.3*x -1\n",
    "# D_n: (x,h(x))\n",
    "demo_dataset = np.array(list(zip(range_x,h(range_x))))\n",
    "pylab.scatter(range_x,h(range_x),c='C8',label=\"$D_{n}$ - 15points\")\n",
    "pylab.ylabel(\"y\")\n",
    "pylab.xlabel(\"x\")\n",
    "pylab.legend()"
   ]
  },
  {
   "cell_type": "markdown",
   "metadata": {},
   "source": [
    "## 2.3"
   ]
  },
  {
   "cell_type": "code",
   "execution_count": 4,
   "metadata": {
    "ExecuteTime": {
     "end_time": "2018-10-13T22:53:57.516954Z",
     "start_time": "2018-10-13T22:53:54.345400Z"
    }
   },
   "outputs": [
    {
     "data": {
      "application/vnd.jupyter.widget-view+json": {
       "model_id": "affad91ab3ad4404b29b74aaaa78af0f",
       "version_major": 2,
       "version_minor": 0
      },
      "text/plain": [
       "HBox(children=(IntProgress(value=0, max=100000), HTML(value='')))"
      ]
     },
     "metadata": {},
     "output_type": "display_data"
    },
    {
     "name": "stdout",
     "output_type": "stream",
     "text": [
      "\n"
     ]
    },
    {
     "data": {
      "image/png": "[encoded data removed]",
      "text/plain": [
       "<matplotlib.figure.Figure at 0x122387e10>"
      ]
     },
     "metadata": {},
     "output_type": "display_data"
    }
   ],
   "source": [
    "# lambda = 0\n",
    "lbd = 0\n",
    "eta = 0.00005\n",
    "rg = RG(1,lbd,eta)\n",
    "b,w = rg.regression_gradient(demo_dataset,10**5)\n",
    "plot_x_2_3 = np.linspace(-10, 10, 100)\n",
    "plot_y_2_3_learned = rg.predict(plot_x_2_3)\n",
    "plot_y_2_3_h = h(plot_x_2_3)\n",
    "\n",
    "params_2_3 = {}\n",
    "params_2_3['b']=b\n",
    "params_2_3['w']=w\n",
    "params_2_3['lbd']=lbd\n",
    "params_2_3['eta']=eta\n",
    "\n",
    "def plot_2_3():\n",
    "    global params_2_3\n",
    "    b = params_2_3['b']\n",
    "    w = params_2_3['w']\n",
    "    lbd = params_2_3['lbd']\n",
    "    eta = params_2_3['eta']\n",
    "    \n",
    "    pylab.plot(plot_x_2_3,plot_y_2_3_h,label=\"h(x)\")\n",
    "    pylab.plot(plot_x_2_3,plot_y_2_3_learned,\n",
    "               label=\"y={:.2f}x{:+.2f} with $\\lambda={}$\".format(w[0],b,lbd))\n",
    "    pylab.scatter(range_x,h(range_x),c='C8',label=\"dataset $D_n$\")\n",
    "    pylab.ylabel(\"y\")\n",
    "    pylab.xlabel(\"x\")\n",
    "    pylab.legend(bbox_to_anchor=(1.05, 1))\n",
    "plot_2_3()"
   ]
  },
  {
   "cell_type": "markdown",
   "metadata": {},
   "source": [
    "## 2.4"
   ]
  },
  {
   "cell_type": "code",
   "execution_count": 5,
   "metadata": {
    "ExecuteTime": {
     "end_time": "2018-10-13T22:54:04.898148Z",
     "start_time": "2018-10-13T22:53:57.520408Z"
    }
   },
   "outputs": [
    {
     "data": {
      "application/vnd.jupyter.widget-view+json": {
       "model_id": "f907ae262fb94b6589d98a3284afad4d",
       "version_major": 2,
       "version_minor": 0
      },
      "text/plain": [
       "HBox(children=(IntProgress(value=0, max=100000), HTML(value='')))"
      ]
     },
     "metadata": {},
     "output_type": "display_data"
    },
    {
     "name": "stdout",
     "output_type": "stream",
     "text": [
      "\n"
     ]
    },
    {
     "data": {
      "application/vnd.jupyter.widget-view+json": {
       "model_id": "a6e3f3acb18b48f89d336f92d7a42656",
       "version_major": 2,
       "version_minor": 0
      },
      "text/plain": [
       "HBox(children=(IntProgress(value=0, max=100000), HTML(value='')))"
      ]
     },
     "metadata": {},
     "output_type": "display_data"
    },
    {
     "name": "stdout",
     "output_type": "stream",
     "text": [
      "\n"
     ]
    },
    {
     "data": {
      "text/plain": [
       "<matplotlib.legend.Legend at 0x122e51b38>"
      ]
     },
     "execution_count": 5,
     "metadata": {},
     "output_type": "execute_result"
    },
    {
     "data": {
      "image/png": "[encoded data removed]",
      "text/plain": [
       "<matplotlib.figure.Figure at 0x122d545c0>"
      ]
     },
     "metadata": {},
     "output_type": "display_data"
    }
   ],
   "source": [
    "plot_2_3()\n",
    "# medium lambda\n",
    "lbd = 10\n",
    "eta = 0.00005\n",
    "rg = RG(1,lbd,eta)\n",
    "b,w = rg.regression_gradient(demo_dataset,100000)\n",
    "plot_y_2_4_lbd_medium = rg.predict(plot_x_2_3)\n",
    "pylab.plot(plot_x_2_3,plot_y_2_4_lbd_medium,\n",
    "          label=\"y={:.2f}x{:+.2f} with $\\lambda={}$ (medium)\".format(w[0],b,lbd))\n",
    "\n",
    "# large lambda\n",
    "lbd = 1000\n",
    "eta = 0.00005\n",
    "rg = RG(1,lbd,eta)\n",
    "b,w = rg.regression_gradient(demo_dataset,100000)\n",
    "plot_y_2_4_lbd_large = rg.predict(plot_x_2_3)\n",
    "pylab.plot(plot_x_2_3,plot_y_2_4_lbd_large,\n",
    "          label=\"y={:.2f}x{:+.2f} with $\\lambda={}$ (large)\".format(w[0],b,lbd))\n",
    "pylab.ylabel(\"y\")\n",
    "pylab.xlabel(\"x\")\n",
    "pylab.legend(bbox_to_anchor=(1.05, 1))"
   ]
  },
  {
   "cell_type": "markdown",
   "metadata": {},
   "source": [
    "## 2.5"
   ]
  },
  {
   "cell_type": "code",
   "execution_count": 6,
   "metadata": {
    "ExecuteTime": {
     "end_time": "2018-10-13T22:54:05.179386Z",
     "start_time": "2018-10-13T22:54:04.900688Z"
    }
   },
   "outputs": [
    {
     "data": {
      "text/plain": [
       "<matplotlib.legend.Legend at 0x122c8c4e0>"
      ]
     },
     "execution_count": 6,
     "metadata": {},
     "output_type": "execute_result"
    },
    {
     "data": {
      "image/png": "[encoded data removed]",
      "text/plain": [
       "<matplotlib.figure.Figure at 0x122c8ca20>"
      ]
     },
     "metadata": {},
     "output_type": "display_data"
    }
   ],
   "source": [
    "range_x_100 = np.random.uniform(-5, 5, 100)\n",
    "# D_test\n",
    "demo_dataset_test = np.array(list(zip(range_x_100,h(range_x_100))))\n",
    "pylab.scatter(range_x_100,h(range_x_100),c='C6',label=\"$D_{test}$ - 100points\")\n",
    "pylab.ylabel(\"y\")\n",
    "pylab.xlabel(\"x\")\n",
    "pylab.legend()"
   ]
  },
  {
   "cell_type": "code",
   "execution_count": 7,
   "metadata": {
    "ExecuteTime": {
     "end_time": "2018-10-13T22:54:06.485460Z",
     "start_time": "2018-10-13T22:54:05.184282Z"
    },
    "scrolled": false
   },
   "outputs": [
    {
     "data": {
      "application/vnd.jupyter.widget-view+json": {
       "model_id": "abf0146279544f28a8c6043e2d26254e",
       "version_major": 2,
       "version_minor": 0
      },
      "text/plain": [
       "HBox(children=(IntProgress(value=0, max=1000), HTML(value='')))"
      ]
     },
     "metadata": {},
     "output_type": "display_data"
    },
    {
     "name": "stdout",
     "output_type": "stream",
     "text": [
      "\n"
     ]
    },
    {
     "data": {
      "application/vnd.jupyter.widget-view+json": {
       "model_id": "92e78360ed6546f597a7c1b5b5010d3f",
       "version_major": 2,
       "version_minor": 0
      },
      "text/plain": [
       "HBox(children=(IntProgress(value=0, max=1000), HTML(value='')))"
      ]
     },
     "metadata": {},
     "output_type": "display_data"
    },
    {
     "name": "stdout",
     "output_type": "stream",
     "text": [
      "\n"
     ]
    },
    {
     "data": {
      "application/vnd.jupyter.widget-view+json": {
       "model_id": "1aedd30cedbc488c9c9b09369ddc81c9",
       "version_major": 2,
       "version_minor": 0
      },
      "text/plain": [
       "HBox(children=(IntProgress(value=0, max=1000), HTML(value='')))"
      ]
     },
     "metadata": {},
     "output_type": "display_data"
    },
    {
     "name": "stdout",
     "output_type": "stream",
     "text": [
      "\n"
     ]
    },
    {
     "data": {
      "application/vnd.jupyter.widget-view+json": {
       "model_id": "607d870fc7e94b23be739cedace41763",
       "version_major": 2,
       "version_minor": 0
      },
      "text/plain": [
       "HBox(children=(IntProgress(value=0, max=1000), HTML(value='')))"
      ]
     },
     "metadata": {},
     "output_type": "display_data"
    },
    {
     "name": "stdout",
     "output_type": "stream",
     "text": [
      "\n"
     ]
    },
    {
     "data": {
      "application/vnd.jupyter.widget-view+json": {
       "model_id": "8ef19dd994d9426c8b2aba437d929121",
       "version_major": 2,
       "version_minor": 0
      },
      "text/plain": [
       "HBox(children=(IntProgress(value=0, max=1000), HTML(value='')))"
      ]
     },
     "metadata": {},
     "output_type": "display_data"
    },
    {
     "name": "stdout",
     "output_type": "stream",
     "text": [
      "\n"
     ]
    },
    {
     "data": {
      "application/vnd.jupyter.widget-view+json": {
       "model_id": "c3a7fd3156c4438498c703a2d97e0eb1",
       "version_major": 2,
       "version_minor": 0
      },
      "text/plain": [
       "HBox(children=(IntProgress(value=0, max=1000), HTML(value='')))"
      ]
     },
     "metadata": {},
     "output_type": "display_data"
    },
    {
     "name": "stdout",
     "output_type": "stream",
     "text": [
      "\n"
     ]
    },
    {
     "data": {
      "application/vnd.jupyter.widget-view+json": {
       "model_id": "4bd53f24bf4b40b6a533c46dadc56c28",
       "version_major": 2,
       "version_minor": 0
      },
      "text/plain": [
       "HBox(children=(IntProgress(value=0, max=1000), HTML(value='')))"
      ]
     },
     "metadata": {},
     "output_type": "display_data"
    },
    {
     "name": "stdout",
     "output_type": "stream",
     "text": [
      "\n"
     ]
    },
    {
     "data": {
      "text/plain": [
       "Text(0,0.5,'average quadratic loss')"
      ]
     },
     "execution_count": 7,
     "metadata": {},
     "output_type": "execute_result"
    },
    {
     "data": {
      "image/png": "[encoded data removed]",
      "text/plain": [
       "<matplotlib.figure.Figure at 0x122d70eb8>"
      ]
     },
     "metadata": {},
     "output_type": "display_data"
    }
   ],
   "source": [
    "lbd_list = np.array([0.0001, 0.001, 0.01, 0.1, 1, 10, 100])\n",
    "# average quadratic loss\n",
    "quad_loss = np.zeros(len(lbd_list))\n",
    "\n",
    "def calculate_loss(u,v):\n",
    "    loss = np.mean((u-v)**2)\n",
    "    return loss\n",
    "\n",
    "for ind,lbd in enumerate(lbd_list):\n",
    "    eta = 0.00005\n",
    "    rg = RG(1,lbd,eta)\n",
    "    b,w = rg.regression_gradient(demo_dataset,1000)\n",
    "    plot_y_2_5_learned = rg.predict(demo_dataset_test[:,0])\n",
    "    quad_loss[ind] = calculate_loss(demo_dataset_test[:,1],plot_y_2_5_learned)\n",
    "\n",
    "xi = [i for i in range(len(lbd_list))]\n",
    "plt.xticks(xi, lbd_list)\n",
    "pylab.plot(xi,quad_loss,marker='x')\n",
    "pylab.xlabel(\"$\\lambda$\")\n",
    "pylab.ylabel(\"average quadratic loss\")"
   ]
  },
  {
   "cell_type": "markdown",
   "metadata": {},
   "source": [
    "## 2.6"
   ]
  },
  {
   "cell_type": "code",
   "execution_count": 8,
   "metadata": {
    "ExecuteTime": {
     "end_time": "2018-10-13T22:54:06.497378Z",
     "start_time": "2018-10-13T22:54:06.489794Z"
    }
   },
   "outputs": [],
   "source": [
    "# Transform x to phi(x)\n",
    "# l: order\n",
    "def transform_x(uni_x,l=3):\n",
    "    n = len(uni_x)\n",
    "    j = np.ones((n,1))\n",
    "    uni_x_diag = np.diag(uni_x)\n",
    "    hi_x = j\n",
    "    order = 0\n",
    "    while True:\n",
    "        hi_x = uni_x_diag@hi_x\n",
    "        order += 1\n",
    "        if order>=l:\n",
    "            break\n",
    "        j = np.ones((n,1))    \n",
    "        hi_x = np.hstack((j,hi_x))\n",
    "    return hi_x"
   ]
  },
  {
   "cell_type": "code",
   "execution_count": 9,
   "metadata": {
    "ExecuteTime": {
     "end_time": "2018-10-13T22:54:06.513765Z",
     "start_time": "2018-10-13T22:54:06.506195Z"
    }
   },
   "outputs": [],
   "source": [
    "def preproc_train_test_pred(l,eta= 10**(-6),iterations=10**6,lbd= 0.01):\n",
    "    uni_x = demo_dataset[:,0]\n",
    "    hi_x = transform_x(uni_x,l)\n",
    "    demo_labels = demo_dataset[:,-1]\n",
    "    hi_demo_dataset = np.hstack((hi_x,demo_dataset[:,-1].reshape(-1,1)))\n",
    "    rg = RG(l,lbd,eta)\n",
    "    b,w = rg.regression_gradient(hi_demo_dataset,iterations)\n",
    "    return rg.predict(transform_x(range_x,l)),rg.predict(transform_x(plot_x_2_3,l))"
   ]
  },
  {
   "cell_type": "code",
   "execution_count": 10,
   "metadata": {
    "ExecuteTime": {
     "end_time": "2018-10-13T22:54:07.017449Z",
     "start_time": "2018-10-13T22:54:06.519399Z"
    }
   },
   "outputs": [
    {
     "data": {
      "application/vnd.jupyter.widget-view+json": {
       "model_id": "303cbc467b194f639434191cea4b87f0",
       "version_major": 2,
       "version_minor": 0
      },
      "text/plain": [
       "HBox(children=(IntProgress(value=0, max=10000), HTML(value='')))"
      ]
     },
     "metadata": {},
     "output_type": "display_data"
    },
    {
     "name": "stdout",
     "output_type": "stream",
     "text": [
      "\n"
     ]
    }
   ],
   "source": [
    "l=1\n",
    "eta= 10**(-3)\n",
    "iterations=10**4\n",
    "plot_y_2_6_order1_train,plot_y_2_6_order1 = preproc_train_test_pred(l,eta,iterations)"
   ]
  },
  {
   "cell_type": "code",
   "execution_count": 11,
   "metadata": {
    "ExecuteTime": {
     "end_time": "2018-10-13T22:54:09.859748Z",
     "start_time": "2018-10-13T22:54:07.022348Z"
    }
   },
   "outputs": [
    {
     "data": {
      "application/vnd.jupyter.widget-view+json": {
       "model_id": "3b3835e3f09b47e89eb2c85275758381",
       "version_major": 2,
       "version_minor": 0
      },
      "text/plain": [
       "HBox(children=(IntProgress(value=0, max=100000), HTML(value='')))"
      ]
     },
     "metadata": {},
     "output_type": "display_data"
    },
    {
     "name": "stdout",
     "output_type": "stream",
     "text": [
      "\n"
     ]
    }
   ],
   "source": [
    "l=2\n",
    "eta= 10**(-4)\n",
    "iterations=10**5\n",
    "plot_y_2_6_order2_train,plot_y_2_6_order2 = preproc_train_test_pred(l,eta,iterations)"
   ]
  },
  {
   "cell_type": "code",
   "execution_count": 12,
   "metadata": {
    "ExecuteTime": {
     "end_time": "2018-10-13T22:54:39.519511Z",
     "start_time": "2018-10-13T22:54:09.863661Z"
    }
   },
   "outputs": [
    {
     "data": {
      "application/vnd.jupyter.widget-view+json": {
       "model_id": "f845f9800380407ea91c30c197823d10",
       "version_major": 2,
       "version_minor": 0
      },
      "text/plain": [
       "HBox(children=(IntProgress(value=0, max=1000000), HTML(value='')))"
      ]
     },
     "metadata": {},
     "output_type": "display_data"
    },
    {
     "name": "stdout",
     "output_type": "stream",
     "text": [
      "\n"
     ]
    }
   ],
   "source": [
    "l=3\n",
    "eta= 10**(-5)\n",
    "iterations=10**6\n",
    "plot_y_2_6_order3_train,plot_y_2_6_order3 = preproc_train_test_pred(l,eta,iterations)"
   ]
  },
  {
   "cell_type": "code",
   "execution_count": 13,
   "metadata": {
    "ExecuteTime": {
     "end_time": "2018-10-13T22:57:11.600630Z",
     "start_time": "2018-10-13T22:54:39.523759Z"
    }
   },
   "outputs": [
    {
     "data": {
      "application/vnd.jupyter.widget-view+json": {
       "model_id": "692b4f0a912248bbb96f92f268ed6b5d",
       "version_major": 2,
       "version_minor": 0
      },
      "text/plain": [
       "HBox(children=(IntProgress(value=0, max=5000000), HTML(value='')))"
      ]
     },
     "metadata": {},
     "output_type": "display_data"
    },
    {
     "name": "stdout",
     "output_type": "stream",
     "text": [
      "\n"
     ]
    }
   ],
   "source": [
    "l=4\n",
    "eta= 10**(-7)\n",
    "iterations=5*10**6\n",
    "plot_y_2_6_order4_train,plot_y_2_6_order4 = preproc_train_test_pred(l,eta,iterations)"
   ]
  },
  {
   "cell_type": "code",
   "execution_count": 14,
   "metadata": {
    "ExecuteTime": {
     "end_time": "2018-10-13T22:57:12.219765Z",
     "start_time": "2018-10-13T22:57:11.606050Z"
    }
   },
   "outputs": [
    {
     "data": {
      "text/plain": [
       "<matplotlib.legend.Legend at 0x122cd1898>"
      ]
     },
     "execution_count": 14,
     "metadata": {},
     "output_type": "execute_result"
    },
    {
     "data": {
      "image/png": "[encoded data removed]",
      "text/plain": [
       "<matplotlib.figure.Figure at 0x122f9d7b8>"
      ]
     },
     "metadata": {},
     "output_type": "display_data"
    }
   ],
   "source": [
    "pylab.plot(plot_x_2_3,plot_y_2_3_h,label=\"h(x)\")\n",
    "pylab.plot(plot_x_2_3,plot_y_2_6_order1,\n",
    "           label=r\"ridge regress - $\\phi_{poly}: l=1$\")\n",
    "pylab.plot(plot_x_2_3,plot_y_2_6_order2,\n",
    "           label=r\"ridge regress - $\\phi_{poly}: l=2$\")\n",
    "pylab.plot(plot_x_2_3,plot_y_2_6_order3,\n",
    "           label=r\"ridge regress - $\\phi_{poly}: l=3$\")\n",
    "pylab.plot(plot_x_2_3,plot_y_2_6_order4,\n",
    "           label=r\"ridge regress - $\\phi_{poly}: l=4$\")\n",
    "pylab.scatter(range_x,h(range_x),c='C8',label=\"dataset $D_n$\")\n",
    "pylab.ylim((-5,5))\n",
    "pylab.ylabel(\"y\")\n",
    "pylab.xlabel(\"x\")\n",
    "pylab.legend(bbox_to_anchor=(1.05, 1))"
   ]
  },
  {
   "cell_type": "code",
   "execution_count": null,
   "metadata": {},
   "outputs": [],
   "source": []
  },
  {
   "cell_type": "markdown",
   "metadata": {},
   "source": [
    "## 2.7"
   ]
  },
  {
   "cell_type": "code",
   "execution_count": 26,
   "metadata": {
    "ExecuteTime": {
     "end_time": "2018-10-13T23:11:31.820354Z",
     "start_time": "2018-10-13T23:11:31.801543Z"
    },
    "scrolled": true
   },
   "outputs": [
    {
     "data": {
      "text/html": [
       "<div>\n",
       "<style scoped>\n",
       "    .dataframe tbody tr th:only-of-type {\n",
       "        vertical-align: middle;\n",
       "    }\n",
       "\n",
       "    .dataframe tbody tr th {\n",
       "        vertical-align: top;\n",
       "    }\n",
       "\n",
       "    .dataframe thead th {\n",
       "        text-align: right;\n",
       "    }\n",
       "</style>\n",
       "<table border=\"1\" class=\"dataframe\">\n",
       "  <thead>\n",
       "    <tr style=\"text-align: right;\">\n",
       "      <th></th>\n",
       "      <th>l</th>\n",
       "      <th>loss of $D_{test}$</th>\n",
       "      <th>loss of $D_{n}$</th>\n",
       "    </tr>\n",
       "  </thead>\n",
       "  <tbody>\n",
       "    <tr>\n",
       "      <th>0</th>\n",
       "      <td>1</td>\n",
       "      <td>4.787609</td>\n",
       "      <td>0.346479</td>\n",
       "    </tr>\n",
       "    <tr>\n",
       "      <th>1</th>\n",
       "      <td>2</td>\n",
       "      <td>7.281378</td>\n",
       "      <td>0.312342</td>\n",
       "    </tr>\n",
       "    <tr>\n",
       "      <th>2</th>\n",
       "      <td>3</td>\n",
       "      <td>286.530188</td>\n",
       "      <td>0.044044</td>\n",
       "    </tr>\n",
       "    <tr>\n",
       "      <th>3</th>\n",
       "      <td>4</td>\n",
       "      <td>539.444395</td>\n",
       "      <td>0.033984</td>\n",
       "    </tr>\n",
       "  </tbody>\n",
       "</table>\n",
       "</div>"
      ],
      "text/plain": [
       "   l  loss of $D_{test}$  loss of $D_{n}$\n",
       "0  1            4.787609         0.346479\n",
       "1  2            7.281378         0.312342\n",
       "2  3          286.530188         0.044044\n",
       "3  4          539.444395         0.033984"
      ]
     },
     "execution_count": 26,
     "metadata": {},
     "output_type": "execute_result"
    }
   ],
   "source": [
    "quad_loss_order = []\n",
    "\n",
    "for l in range(1,5):\n",
    "    quad_loss_order.append((l,calculate_loss(demo_dataset_test[:,1],eval(\"plot_y_2_6_order\"+str(l))),\n",
    "                        calculate_loss(demo_dataset[:,1],eval(\"plot_y_2_6_order\"+str(l)+\"_train\"))))\n",
    "\n",
    "    \n",
    "table_data = list(quad_loss_order)\n",
    "df = pd.DataFrame(table_data)\n",
    "df.columns = ['l','loss of $D_{test}$','loss of $D_{n}$']\n",
    "df"
   ]
  },
  {
   "cell_type": "code",
   "execution_count": 35,
   "metadata": {
    "ExecuteTime": {
     "end_time": "2018-10-13T23:15:17.347919Z",
     "start_time": "2018-10-13T23:15:16.822314Z"
    }
   },
   "outputs": [
    {
     "data": {
      "image/png": "[encoded data removed]",
      "text/plain": [
       "<matplotlib.figure.Figure at 0x123fcd8d0>"
      ]
     },
     "metadata": {},
     "output_type": "display_data"
    }
   ],
   "source": [
    "pylab.plot(df.iloc[:,[0]],df.iloc[:,[1]],label=\"loss of $D_{test}$\")\n",
    "pylab.plot(df.iloc[:,[0]],df.iloc[:,[2]],label=\"loss of $D_n$\")\n",
    "pylab.ylabel(\"log loss\")\n",
    "pylab.xlabel(\"l\")\n",
    "pylab.legend()\n",
    "pylab.yscale(\"log\")"
   ]
  },
  {
   "cell_type": "markdown",
   "metadata": {},
   "source": [
    "# Unit Test"
   ]
  },
  {
   "cell_type": "code",
   "execution_count": 16,
   "metadata": {
    "ExecuteTime": {
     "end_time": "2018-10-13T22:57:12.776213Z",
     "start_time": "2018-10-13T22:57:12.253253Z"
    }
   },
   "outputs": [
    {
     "data": {
      "application/vnd.jupyter.widget-view+json": {
       "model_id": "b25b8e3dcf1d422dbf0977f65bf6bf23",
       "version_major": 2,
       "version_minor": 0
      },
      "text/plain": [
       "HBox(children=(IntProgress(value=0, max=1000), HTML(value='')))"
      ]
     },
     "metadata": {},
     "output_type": "display_data"
    },
    {
     "name": "stderr",
     "output_type": "stream",
     "text": [
      "."
     ]
    },
    {
     "name": "stdout",
     "output_type": "stream",
     "text": [
      "\n",
      "[test_regression_gradient] b=0.6666666666666654,w=[0.5]\n"
     ]
    },
    {
     "data": {
      "application/vnd.jupyter.widget-view+json": {
       "model_id": "d1cf400adc634255aaf098960e7f2d56",
       "version_major": 2,
       "version_minor": 0
      },
      "text/plain": [
       "HBox(children=(IntProgress(value=0, max=1000), HTML(value='')))"
      ]
     },
     "metadata": {},
     "output_type": "display_data"
    },
    {
     "name": "stderr",
     "output_type": "stream",
     "text": [
      "."
     ]
    },
    {
     "name": "stdout",
     "output_type": "stream",
     "text": [
      "\n",
      "[test_regression_gradient_loop] b=0.6666666666666654,w=[0.5]\n"
     ]
    },
    {
     "data": {
      "application/vnd.jupyter.widget-view+json": {
       "model_id": "faf5bc5d37cc42f0a860bcde939ba35e",
       "version_major": 2,
       "version_minor": 0
      },
      "text/plain": [
       "HBox(children=(IntProgress(value=0, max=1000), HTML(value='')))"
      ]
     },
     "metadata": {},
     "output_type": "display_data"
    },
    {
     "name": "stderr",
     "output_type": "stream",
     "text": [
      "."
     ]
    },
    {
     "name": "stdout",
     "output_type": "stream",
     "text": [
      "\n",
      "[test_regression_gradient_loop_regularised] b=0.7142857142857129,w=[0.47619048]\n"
     ]
    },
    {
     "data": {
      "application/vnd.jupyter.widget-view+json": {
       "model_id": "466156d0c34048cbbf166ec71cf67dd3",
       "version_major": 2,
       "version_minor": 0
      },
      "text/plain": [
       "HBox(children=(IntProgress(value=0, max=1000), HTML(value='')))"
      ]
     },
     "metadata": {},
     "output_type": "display_data"
    },
    {
     "name": "stderr",
     "output_type": "stream",
     "text": [
      ".."
     ]
    },
    {
     "name": "stdout",
     "output_type": "stream",
     "text": [
      "\n",
      "[test_regression_gradient_regularised] b=0.7142857142857129,w=[0.47619048]\n"
     ]
    },
    {
     "name": "stderr",
     "output_type": "stream",
     "text": [
      "\n",
      "----------------------------------------------------------------------\n",
      "Ran 5 tests in 0.490s\n",
      "\n",
      "OK\n"
     ]
    },
    {
     "data": {
      "text/plain": [
       "<unittest.runner.TextTestResult run=5 errors=0 failures=0>"
      ]
     },
     "execution_count": 16,
     "metadata": {},
     "output_type": "execute_result"
    }
   ],
   "source": [
    "import unittest\n",
    "def whoami(  ):\n",
    "    import sys\n",
    "    return sys._getframe(1).f_code.co_name\n",
    "\n",
    "class TestHW2(unittest.TestCase):\n",
    "    epsilon = 10**(-5)  \n",
    "    def test_regression_gradient_loop(self):\n",
    "        # Test data [[1,1],[2,2],[3,2]]\n",
    "        train_data = np.array([[1,1],[2,2],[3,2]])\n",
    "        # dimension=1, labmda = 0, eta = 0.05\n",
    "        rg = RG(1,0,0.05)\n",
    "        b,w = rg.regression_gradient_loop(train_data)\n",
    "        print(\"[{}] b={},w={}\".format(whoami(),b,w))\n",
    "        self.assertTrue(np.abs(b-2/3)<self.epsilon)\n",
    "        self.assertTrue(np.abs(w-0.5)<self.epsilon) \n",
    "        \n",
    "    def test_regression_gradient_loop_regularised(self):\n",
    "        # Test data [[1,1],[2,2],[3,2]]\n",
    "        train_data = np.array([[1,1],[2,2],[3,2]])\n",
    "        # dimension=1, labmda = 0.1, eta = 0.05\n",
    "        rg = RG(1,0.1,0.05)\n",
    "        b,w = rg.regression_gradient_loop(train_data)\n",
    "        print(\"[{}] b={},w={}\".format(whoami(),b,w))\n",
    "        self.assertTrue(np.abs(b-0.7142857142857129)<self.epsilon)\n",
    "        self.assertTrue(np.abs(w-0.47619048)<self.epsilon)\n",
    "        \n",
    "    def test_regression_gradient(self):\n",
    "        # Test data [[1,1],[2,2],[3,2]]\n",
    "        train_data = np.array([[1,1],[2,2],[3,2]])\n",
    "        # dimension=1, labmda = 0, eta = 0.05\n",
    "        rg = RG(1,0,0.05)\n",
    "        b,w = rg.regression_gradient(train_data)\n",
    "        print(\"[{}] b={},w={}\".format(whoami(),b,w))\n",
    "        self.assertTrue(np.abs(b-2/3)<self.epsilon)\n",
    "        self.assertTrue(np.abs(w-0.5)<self.epsilon)\n",
    "     \n",
    "    def test_regression_gradient_regularised(self):\n",
    "        # Test data [[1,1],[2,2],[3,2]]\n",
    "        train_data = np.array([[1,1],[2,2],[3,2]])\n",
    "        # dimension=1, labmda = 0.1, eta = 0.05\n",
    "        rg = RG(1,0.1,0.05)\n",
    "        b,w = rg.regression_gradient(train_data)\n",
    "        print(\"[{}] b={},w={}\".format(whoami(),b,w))\n",
    "        self.assertTrue(np.abs(b-0.7142857142857129)<self.epsilon)\n",
    "        self.assertTrue(np.abs(w-0.47619048)<self.epsilon)\n",
    "        \n",
    "    def test_transform_x(self):\n",
    "        uni_x = np.array([2,3,4])\n",
    "        hi_x = transform_x(uni_x,3)\n",
    "        result = np.array([[ 2.,  4.,  8.],\n",
    "       [ 3.,  9., 27.],\n",
    "       [ 4., 16., 64.]])\n",
    "        self.assertTrue(np.array_equal(hi_x,result))\n",
    "    \n",
    "# if __name__ == '__main__':\n",
    "#     unittest.main()\n",
    "suite = unittest.TestLoader().loadTestsFromTestCase(TestHW2)\n",
    "unittest.TextTestRunner().run(suite)"
   ]
  },
  {
   "cell_type": "code",
   "execution_count": null,
   "metadata": {},
   "outputs": [],
   "source": []
  }
 ],
 "metadata": {
  "kernelspec": {
   "display_name": "Python 3",
   "language": "python",
   "name": "python3"
  },
  "language_info": {
   "codemirror_mode": {
    "name": "ipython",
    "version": 3
   },
   "file_extension": ".py",
   "mimetype": "text/x-python",
   "name": "python",
   "nbconvert_exporter": "python",
   "pygments_lexer": "ipython3",
   "version": "3.6.5"
  },
  "toc": {
   "base_numbering": 1,
   "nav_menu": {},
   "number_sections": false,
   "sideBar": true,
   "skip_h1_title": false,
   "title_cell": "Table of Contents",
   "title_sidebar": "Contents",
   "toc_cell": false,
   "toc_position": {
    "height": "calc(100% - 180px)",
    "left": "10px",
    "top": "150px",
    "width": "237px"
   },
   "toc_section_display": true,
   "toc_window_display": true
  },
  "varInspector": {
   "cols": {
    "lenName": 16,
    "lenType": 16,
    "lenVar": 40
   },
   "kernels_config": {
    "python": {
     "delete_cmd_postfix": "",
     "delete_cmd_prefix": "del ",
     "library": "var_list.py",
     "varRefreshCmd": "print(var_dic_list())"
    },
    "r": {
     "delete_cmd_postfix": ") ",
     "delete_cmd_prefix": "rm(",
     "library": "var_list.r",
     "varRefreshCmd": "cat(var_dic_list()) "
    }
   },
   "types_to_exclude": [
    "module",
    "function",
    "builtin_function_or_method",
    "instance",
    "_Feature"
   ],
   "window_display": false
  }
 },
 "nbformat": 4,
 "nbformat_minor": 2
}
